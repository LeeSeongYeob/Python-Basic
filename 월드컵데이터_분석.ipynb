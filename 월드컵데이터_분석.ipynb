{
  "nbformat": 4,
  "nbformat_minor": 0,
  "metadata": {
    "colab": {
      "name": "월드컵데이터 분석.ipynb",
      "provenance": [],
      "collapsed_sections": []
    },
    "kernelspec": {
      "name": "python3",
      "display_name": "Python 3"
    }
  },
  "cells": [
    {
      "cell_type": "markdown",
      "metadata": {
        "id": "7e_PmjybIiSl"
      },
      "source": [
        "# 월드컵 데이터 분석\n",
        "- data 출처 : https://www.kaggle.com/abecklas/fifa-world-cup"
      ]
    },
    {
      "cell_type": "code",
      "metadata": {
        "id": "OJNSgutCIVzd"
      },
      "source": [
        "import matplotlib.pyplot as plt\n",
        "import pandas as pd"
      ],
      "execution_count": null,
      "outputs": []
    },
    {
      "cell_type": "code",
      "metadata": {
        "id": "xYgYXWH4Io6b",
        "outputId": "409f0cf7-8e8b-419b-82e0-a133b1f5e19f",
        "colab": {
          "base_uri": "https://localhost:8080/",
          "height": 232
        }
      },
      "source": [
        "data = pd.read_csv('./WorldCups.csv',decimal=',')\n",
        "data.head()"
      ],
      "execution_count": null,
      "outputs": [
        {
          "output_type": "execute_result",
          "data": {
            "text/html": [
              "<div>\n",
              "<style scoped>\n",
              "    .dataframe tbody tr th:only-of-type {\n",
              "        vertical-align: middle;\n",
              "    }\n",
              "\n",
              "    .dataframe tbody tr th {\n",
              "        vertical-align: top;\n",
              "    }\n",
              "\n",
              "    .dataframe thead th {\n",
              "        text-align: right;\n",
              "    }\n",
              "</style>\n",
              "<table border=\"1\" class=\"dataframe\">\n",
              "  <thead>\n",
              "    <tr style=\"text-align: right;\">\n",
              "      <th></th>\n",
              "      <th>Year</th>\n",
              "      <th>Country</th>\n",
              "      <th>Winner</th>\n",
              "      <th>Runners-Up</th>\n",
              "      <th>Third</th>\n",
              "      <th>Fourth</th>\n",
              "      <th>GoalsScored</th>\n",
              "      <th>QualifiedTeams</th>\n",
              "      <th>MatchesPlayed</th>\n",
              "      <th>Attendance</th>\n",
              "    </tr>\n",
              "  </thead>\n",
              "  <tbody>\n",
              "    <tr>\n",
              "      <th>0</th>\n",
              "      <td>1930</td>\n",
              "      <td>Uruguay</td>\n",
              "      <td>Uruguay</td>\n",
              "      <td>Argentina</td>\n",
              "      <td>USA</td>\n",
              "      <td>Yugoslavia</td>\n",
              "      <td>70</td>\n",
              "      <td>13</td>\n",
              "      <td>18</td>\n",
              "      <td>590.549</td>\n",
              "    </tr>\n",
              "    <tr>\n",
              "      <th>1</th>\n",
              "      <td>1934</td>\n",
              "      <td>Italy</td>\n",
              "      <td>Italy</td>\n",
              "      <td>Czechoslovakia</td>\n",
              "      <td>Germany</td>\n",
              "      <td>Austria</td>\n",
              "      <td>70</td>\n",
              "      <td>16</td>\n",
              "      <td>17</td>\n",
              "      <td>363.000</td>\n",
              "    </tr>\n",
              "    <tr>\n",
              "      <th>2</th>\n",
              "      <td>1938</td>\n",
              "      <td>France</td>\n",
              "      <td>Italy</td>\n",
              "      <td>Hungary</td>\n",
              "      <td>Brazil</td>\n",
              "      <td>Sweden</td>\n",
              "      <td>84</td>\n",
              "      <td>15</td>\n",
              "      <td>18</td>\n",
              "      <td>375.700</td>\n",
              "    </tr>\n",
              "    <tr>\n",
              "      <th>3</th>\n",
              "      <td>1950</td>\n",
              "      <td>Brazil</td>\n",
              "      <td>Uruguay</td>\n",
              "      <td>Brazil</td>\n",
              "      <td>Sweden</td>\n",
              "      <td>Spain</td>\n",
              "      <td>88</td>\n",
              "      <td>13</td>\n",
              "      <td>22</td>\n",
              "      <td>1.045.246</td>\n",
              "    </tr>\n",
              "    <tr>\n",
              "      <th>4</th>\n",
              "      <td>1954</td>\n",
              "      <td>Switzerland</td>\n",
              "      <td>Germany FR</td>\n",
              "      <td>Hungary</td>\n",
              "      <td>Austria</td>\n",
              "      <td>Uruguay</td>\n",
              "      <td>140</td>\n",
              "      <td>16</td>\n",
              "      <td>26</td>\n",
              "      <td>768.607</td>\n",
              "    </tr>\n",
              "  </tbody>\n",
              "</table>\n",
              "</div>"
            ],
            "text/plain": [
              "   Year      Country      Winner  ... QualifiedTeams MatchesPlayed Attendance\n",
              "0  1930      Uruguay     Uruguay  ...             13            18    590.549\n",
              "1  1934        Italy       Italy  ...             16            17    363.000\n",
              "2  1938       France       Italy  ...             15            18    375.700\n",
              "3  1950       Brazil     Uruguay  ...             13            22  1.045.246\n",
              "4  1954  Switzerland  Germany FR  ...             16            26    768.607\n",
              "\n",
              "[5 rows x 10 columns]"
            ]
          },
          "metadata": {
            "tags": []
          },
          "execution_count": 3
        }
      ]
    },
    {
      "cell_type": "markdown",
      "metadata": {
        "id": "Au0BEoKjIp38"
      },
      "source": [
        "### 역대 관중 수 출력하기.\n",
        "- Year, Attendance col 출력"
      ]
    },
    {
      "cell_type": "code",
      "metadata": {
        "id": "xm5q2vBCJLfC",
        "outputId": "a618a2ce-9362-4ad1-f4e4-512039faae4e",
        "colab": {
          "base_uri": "https://localhost:8080/",
          "height": 406
        }
      },
      "source": [
        "df = data[['Year','Attendance']]\n",
        "df['Attendance']  = df['Attendance'].astype(str)\n",
        "df['Attendance'] = df['Attendance'].apply(lambda x : x.replace('.','')).astype(int)\n",
        "df.info()"
      ],
      "execution_count": null,
      "outputs": [
        {
          "output_type": "stream",
          "text": [
            "<class 'pandas.core.frame.DataFrame'>\n",
            "RangeIndex: 20 entries, 0 to 19\n",
            "Data columns (total 2 columns):\n",
            " #   Column      Non-Null Count  Dtype\n",
            "---  ------      --------------  -----\n",
            " 0   Year        20 non-null     int64\n",
            " 1   Attendance  20 non-null     int64\n",
            "dtypes: int64(2)\n",
            "memory usage: 448.0 bytes\n"
          ],
          "name": "stdout"
        },
        {
          "output_type": "stream",
          "text": [
            "/usr/local/lib/python3.6/dist-packages/ipykernel_launcher.py:2: SettingWithCopyWarning: \n",
            "A value is trying to be set on a copy of a slice from a DataFrame.\n",
            "Try using .loc[row_indexer,col_indexer] = value instead\n",
            "\n",
            "See the caveats in the documentation: https://pandas.pydata.org/pandas-docs/stable/user_guide/indexing.html#returning-a-view-versus-a-copy\n",
            "  \n",
            "/usr/local/lib/python3.6/dist-packages/ipykernel_launcher.py:3: SettingWithCopyWarning: \n",
            "A value is trying to be set on a copy of a slice from a DataFrame.\n",
            "Try using .loc[row_indexer,col_indexer] = value instead\n",
            "\n",
            "See the caveats in the documentation: https://pandas.pydata.org/pandas-docs/stable/user_guide/indexing.html#returning-a-view-versus-a-copy\n",
            "  This is separate from the ipykernel package so we can avoid doing imports until\n"
          ],
          "name": "stderr"
        }
      ]
    },
    {
      "cell_type": "code",
      "metadata": {
        "id": "0fgNP2BVJgDU",
        "outputId": "fbff9688-64a4-402f-9ad0-631c7895887a",
        "colab": {
          "base_uri": "https://localhost:8080/",
          "height": 290
        }
      },
      "source": [
        "fig, ax = plt.subplots()\n",
        "ax.plot(df['Year'],df['Attendance'],marker = 'o',color ='k')\n",
        "ax.set_xlabel('Year')\n",
        "ax.set_ylabel('Attendance')\n",
        "fig.show()"
      ],
      "execution_count": null,
      "outputs": [
        {
          "output_type": "display_data",
          "data": {
            "image/png": "[encoded data removed]",
            "text/plain": [
              "<Figure size 432x288 with 1 Axes>"
            ]
          },
          "metadata": {
            "tags": [],
            "needs_background": "light"
          }
        }
      ]
    },
    {
      "cell_type": "markdown",
      "metadata": {
        "id": "fip0jCEE1I3r"
      },
      "source": [
        "### 경기당 득점 수 분석"
      ]
    },
    {
      "cell_type": "code",
      "metadata": {
        "id": "jB3clQkq1JMs",
        "outputId": "7d41ea53-9cfa-4443-baf4-d07403cf4b0b",
        "colab": {
          "base_uri": "https://localhost:8080/",
          "height": 483
        }
      },
      "source": [
        "data['Goalpermatch'] = data['GoalsScored'] / data['MatchesPlayed']\n",
        "fig ,axes = plt.subplots(2,1,figsize=(4,8))\n",
        "axes[0].bar(data['Year'],data['GoalsScored'],color='grey',label='Goals')\n",
        "axes[0].plot(data['Year'],data['MatchesPlayed'],marker='o',label='Matches')\n",
        "axes[0].legend()\n",
        "\n",
        "axes[1].plot(data['Year'],data['Goalpermatch'],'k-o',label='GoalperMatch')\n",
        "axes[1].legend()\n",
        "axes[1].grid(True)\n",
        "fig.show()"
      ],
      "execution_count": null,
      "outputs": [
        {
          "output_type": "display_data",
          "data": {
            "image/png": "[encoded data removed]",
            "text/plain": [
              "<Figure size 288x576 with 2 Axes>"
            ]
          },
          "metadata": {
            "tags": [],
            "needs_background": "light"
          }
        }
      ]
    },
    {
      "cell_type": "markdown",
      "metadata": {
        "id": "qRMIizhmGPiX"
      },
      "source": [
        "# WorldCupMatches Data\n",
        "- 역대 월드컵 골 넣은 나라 순위"
      ]
    },
    {
      "cell_type": "code",
      "metadata": {
        "id": "4aXcuPl0GPOq",
        "outputId": "1955d5cc-e27f-4712-f6d2-4cb718a88211",
        "colab": {
          "base_uri": "https://localhost:8080/",
          "height": 492
        }
      },
      "source": [
        "data = pd.read_csv('./WorldCupMatches.csv')\n",
        "data.info()"
      ],
      "execution_count": 58,
      "outputs": [
        {
          "output_type": "stream",
          "text": [
            "<class 'pandas.core.frame.DataFrame'>\n",
            "RangeIndex: 4572 entries, 0 to 4571\n",
            "Data columns (total 20 columns):\n",
            " #   Column                Non-Null Count  Dtype  \n",
            "---  ------                --------------  -----  \n",
            " 0   Year                  852 non-null    float64\n",
            " 1   Datetime              852 non-null    object \n",
            " 2   Stage                 852 non-null    object \n",
            " 3   Stadium               852 non-null    object \n",
            " 4   City                  852 non-null    object \n",
            " 5   Home Team Name        852 non-null    object \n",
            " 6   Home Team Goals       852 non-null    float64\n",
            " 7   Away Team Goals       852 non-null    float64\n",
            " 8   Away Team Name        852 non-null    object \n",
            " 9   Win conditions        852 non-null    object \n",
            " 10  Attendance            850 non-null    float64\n",
            " 11  Half-time Home Goals  852 non-null    float64\n",
            " 12  Half-time Away Goals  852 non-null    float64\n",
            " 13  Referee               852 non-null    object \n",
            " 14  Assistant 1           852 non-null    object \n",
            " 15  Assistant 2           852 non-null    object \n",
            " 16  RoundID               852 non-null    float64\n",
            " 17  MatchID               852 non-null    float64\n",
            " 18  Home Team Initials    852 non-null    object \n",
            " 19  Away Team Initials    852 non-null    object \n",
            "dtypes: float64(8), object(12)\n",
            "memory usage: 714.5+ KB\n"
          ],
          "name": "stdout"
        }
      ]
    },
    {
      "cell_type": "markdown",
      "metadata": {
        "id": "0AbfpAPEHVIr"
      },
      "source": [
        "#### 데이터 전처리"
      ]
    },
    {
      "cell_type": "code",
      "metadata": {
        "id": "w-b8oJ5GHUiu",
        "outputId": "4e7c01f6-042a-4e55-9b11-329b32b42fb7",
        "colab": {
          "base_uri": "https://localhost:8080/",
          "height": 34
        }
      },
      "source": [
        "data.replace({'Home Team Name':{'Germany FR':'Germany'}},inplace=True)\n",
        "data.replace('C�te d\\'Ivoire', 'Côte d\\'Ivoire',inplace=True)\n",
        "data.replace('rn\">Bosnia and Herzegovina', 'Bosnia and Herzegovina',inplace=True)\n",
        "data.replace('rn\">Serbia and Montenegro', 'Serbia and Montenegro',inplace=True)\n",
        "data.replace('rn\">Republic of Ireland', 'Republic of Ireland',inplace=True)\n",
        "data.replace('rn\">Trinidad and Tobago', 'Trinidad and Tobago',inplace=True)\n",
        "data.replace('rn\">United Arab Emirates', 'United Arab Emirates',inplace=True)\n",
        "data.replace('Soviet Union', 'Russia',inplace=True)\n",
        "\n",
        "\n",
        "# 중복 데이터 제거\n",
        "dupli = data.duplicated()\n",
        "# print(dupli)\n",
        "print(len(dupli[dupli==True]))\n",
        "data = data.drop_duplicates()"
      ],
      "execution_count": 59,
      "outputs": [
        {
          "output_type": "stream",
          "text": [
            "3735\n"
          ],
          "name": "stdout"
        }
      ]
    },
    {
      "cell_type": "code",
      "metadata": {
        "id": "w2Ur1IcaG4rN",
        "outputId": "7fc91804-95a3-4772-a831-9fb27e785a86",
        "colab": {
          "base_uri": "https://localhost:8080/",
          "height": 474
        }
      },
      "source": [
        "home_team = data.groupby('Home Team Name')['Home Team Goals'].sum()\n",
        "away_team = data.groupby('Away Team Name')['Away Team Goals'].sum()\n",
        "print(home_team)\n",
        "print(away_team)"
      ],
      "execution_count": 60,
      "outputs": [
        {
          "output_type": "stream",
          "text": [
            "Home Team Name\n",
            "Algeria                   5.0\n",
            "Angola                    0.0\n",
            "Argentina               109.0\n",
            "Australia                 7.0\n",
            "Austria                  31.0\n",
            "                        ...  \n",
            "United Arab Emirates      0.0\n",
            "Uruguay                  62.0\n",
            "Wales                     2.0\n",
            "Yugoslavia               42.0\n",
            "Zaire                     0.0\n",
            "Name: Home Team Goals, Length: 76, dtype: float64\n",
            "Away Team Name\n",
            "Algeria                  8.0\n",
            "Angola                   1.0\n",
            "Argentina               22.0\n",
            "Australia                4.0\n",
            "Austria                 12.0\n",
            "                        ... \n",
            "United Arab Emirates     2.0\n",
            "Uruguay                 18.0\n",
            "Wales                    2.0\n",
            "Yugoslavia              18.0\n",
            "Zaire                    0.0\n",
            "Name: Away Team Goals, Length: 82, dtype: float64\n"
          ],
          "name": "stdout"
        }
      ]
    },
    {
      "cell_type": "code",
      "metadata": {
        "id": "ShfQB68_HAbJ",
        "outputId": "3d52df7f-f528-4b43-c05c-cce894b1b1e0",
        "colab": {
          "base_uri": "https://localhost:8080/",
          "height": 402
        }
      },
      "source": [
        "#  결측 데이터 채우기\n",
        "goal_per_country = pd.concat([home_team,away_team],axis = 1).fillna(0)\n",
        "goal_per_country.isna()"
      ],
      "execution_count": 61,
      "outputs": [
        {
          "output_type": "execute_result",
          "data": {
            "text/html": [
              "<div>\n",
              "<style scoped>\n",
              "    .dataframe tbody tr th:only-of-type {\n",
              "        vertical-align: middle;\n",
              "    }\n",
              "\n",
              "    .dataframe tbody tr th {\n",
              "        vertical-align: top;\n",
              "    }\n",
              "\n",
              "    .dataframe thead th {\n",
              "        text-align: right;\n",
              "    }\n",
              "</style>\n",
              "<table border=\"1\" class=\"dataframe\">\n",
              "  <thead>\n",
              "    <tr style=\"text-align: right;\">\n",
              "      <th></th>\n",
              "      <th>Home Team Goals</th>\n",
              "      <th>Away Team Goals</th>\n",
              "    </tr>\n",
              "  </thead>\n",
              "  <tbody>\n",
              "    <tr>\n",
              "      <th>Algeria</th>\n",
              "      <td>False</td>\n",
              "      <td>False</td>\n",
              "    </tr>\n",
              "    <tr>\n",
              "      <th>Angola</th>\n",
              "      <td>False</td>\n",
              "      <td>False</td>\n",
              "    </tr>\n",
              "    <tr>\n",
              "      <th>Argentina</th>\n",
              "      <td>False</td>\n",
              "      <td>False</td>\n",
              "    </tr>\n",
              "    <tr>\n",
              "      <th>Australia</th>\n",
              "      <td>False</td>\n",
              "      <td>False</td>\n",
              "    </tr>\n",
              "    <tr>\n",
              "      <th>Austria</th>\n",
              "      <td>False</td>\n",
              "      <td>False</td>\n",
              "    </tr>\n",
              "    <tr>\n",
              "      <th>...</th>\n",
              "      <td>...</td>\n",
              "      <td>...</td>\n",
              "    </tr>\n",
              "    <tr>\n",
              "      <th>Egypt</th>\n",
              "      <td>False</td>\n",
              "      <td>False</td>\n",
              "    </tr>\n",
              "    <tr>\n",
              "      <th>El Salvador</th>\n",
              "      <td>False</td>\n",
              "      <td>False</td>\n",
              "    </tr>\n",
              "    <tr>\n",
              "      <th>Germany FR</th>\n",
              "      <td>False</td>\n",
              "      <td>False</td>\n",
              "    </tr>\n",
              "    <tr>\n",
              "      <th>Israel</th>\n",
              "      <td>False</td>\n",
              "      <td>False</td>\n",
              "    </tr>\n",
              "    <tr>\n",
              "      <th>Kuwait</th>\n",
              "      <td>False</td>\n",
              "      <td>False</td>\n",
              "    </tr>\n",
              "  </tbody>\n",
              "</table>\n",
              "<p>82 rows × 2 columns</p>\n",
              "</div>"
            ],
            "text/plain": [
              "             Home Team Goals  Away Team Goals\n",
              "Algeria                False            False\n",
              "Angola                 False            False\n",
              "Argentina              False            False\n",
              "Australia              False            False\n",
              "Austria                False            False\n",
              "...                      ...              ...\n",
              "Egypt                  False            False\n",
              "El Salvador            False            False\n",
              "Germany FR             False            False\n",
              "Israel                 False            False\n",
              "Kuwait                 False            False\n",
              "\n",
              "[82 rows x 2 columns]"
            ]
          },
          "metadata": {
            "tags": []
          },
          "execution_count": 61
        }
      ]
    },
    {
      "cell_type": "code",
      "metadata": {
        "id": "pcJ1zjHfjEI_",
        "outputId": "fae7dff7-db70-4f6d-fbd6-18e8569e1e2d",
        "colab": {
          "base_uri": "https://localhost:8080/",
          "height": 228
        }
      },
      "source": [
        "total = (goal_per_country['Home Team Goals'] + goal_per_country['Away Team Goals']).astype(int)\n",
        "total.sort_values(ascending=False, inplace = True)\n",
        "total"
      ],
      "execution_count": 65,
      "outputs": [
        {
          "output_type": "execute_result",
          "data": {
            "text/plain": [
              "Brazil                 221\n",
              "Germany                192\n",
              "Argentina              131\n",
              "Italy                  128\n",
              "France                 106\n",
              "                      ... \n",
              "Canada                   0\n",
              "China PR                 0\n",
              "Dutch East Indies        0\n",
              "Trinidad and Tobago      0\n",
              "Zaire                    0\n",
              "Length: 82, dtype: int64"
            ]
          },
          "metadata": {
            "tags": []
          },
          "execution_count": 65
        }
      ]
    },
    {
      "cell_type": "code",
      "metadata": {
        "id": "mMRJ_m3fj3vD",
        "outputId": "6e8da206-2217-4bcb-dc07-da0947245843",
        "colab": {
          "base_uri": "https://localhost:8080/",
          "height": 578
        }
      },
      "source": [
        "fig, ax = plt.subplots(figsize = (20,8))\n",
        "ax.bar(total.index, total.values)\n",
        "ax.set_title('Goal per Country')\n",
        "ax.set_ylabel('Goals')\n",
        "plt.xticks(rotation = 90)\n",
        "plt.tight_layout()\n",
        "fig.show()"
      ],
      "execution_count": 87,
      "outputs": [
        {
          "output_type": "display_data",
          "data": {
            "image/png": "[encoded data removed]",
            "text/plain": [
              "<Figure size 1440x576 with 1 Axes>"
            ]
          },
          "metadata": {
            "tags": [],
            "needs_background": "light"
          }
        }
      ]
    }
  ]
}