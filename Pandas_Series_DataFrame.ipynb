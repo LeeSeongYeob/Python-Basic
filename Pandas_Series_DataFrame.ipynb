{
  "nbformat": 4,
  "nbformat_minor": 0,
  "metadata": {
    "colab": {
      "name": "Pandas_Series_DataFrame.ipynb",
      "provenance": []
    },
    "kernelspec": {
      "name": "python3",
      "display_name": "Python 3"
    }
  },
  "cells": [
    {
      "cell_type": "code",
      "metadata": {
        "id": "1xaCm1Spzqwy",
        "colab_type": "code",
        "colab": {
          "base_uri": "https://localhost:8080/",
          "height": 210
        },
        "outputId": "a68a6e33-d1cf-4f6b-c1bd-7be305ebcce1"
      },
      "source": [
        "import numpy as np\n",
        "import pandas as pd\n",
        "\n",
        "# 예시) 시리즈 데이터를 만드는 방법.\n",
        "series = pd.Series([1,2,3,4], index = ['a', 'b', 'c', 'd'], name=\"Title\")\n",
        "print(series, \"\\n\")\n",
        "\n",
        "\n",
        "# 국가별 인구 수 시리즈 데이터를 딕셔너리를 사용하여 시리얼로 만들어 보세요\n",
        "country = {\n",
        "\"korea\":5180,\n",
        "\"japan\":12718,\n",
        "\"china\":141500,\n",
        "\"usa\":32676\n",
        "}\n",
        "country = pd.Series(country)\n",
        "print(country)"
      ],
      "execution_count": 1,
      "outputs": [
        {
          "output_type": "stream",
          "text": [
            "a    1\n",
            "b    2\n",
            "c    3\n",
            "d    4\n",
            "Name: Title, dtype: int64 \n",
            "\n",
            "korea      5180\n",
            "japan     12718\n",
            "china    141500\n",
            "usa       32676\n",
            "dtype: int64\n"
          ],
          "name": "stdout"
        }
      ]
    },
    {
      "cell_type": "code",
      "metadata": {
        "id": "IN3dBhfBzxIv",
        "colab_type": "code",
        "colab": {
          "base_uri": "https://localhost:8080/",
          "height": 404
        },
        "outputId": "f2904fa6-7120-4351-ceae-989517523ae0"
      },
      "source": [
        "# 두 개의 시리즈 데이터가 있습니다.\n",
        "print(\"Population series data:\")\n",
        "population_dict = {\n",
        "    'korea': 5180,\n",
        "    'japan': 12718,\n",
        "    'china': 141500,\n",
        "    'usa': 32676\n",
        "}\n",
        "population = pd.Series(population_dict)\n",
        "print(population, \"\\n\")\n",
        "\n",
        "print(\"GDP series data:\")\n",
        "gdp_dict = {\n",
        "    'korea': 169320000,\n",
        "    'japan': 516700000,\n",
        "    'china': 1409250000,\n",
        "    'usa': 2041280000,\n",
        "}\n",
        "gdp = pd.Series(gdp_dict)\n",
        "print(gdp, \"\\n\")\n",
        "\n",
        "\n",
        "# 이곳에서 2개의 시리즈 값이 들어간 데이터프레임을 생성합니다.\n",
        "print(\"Country DataFrame\")\n",
        "country = pd.DataFrame({\n",
        "'population':population,\n",
        "'gdp':gdp\n",
        "})\n",
        "\n",
        "\n",
        "# 데이터 프레임에 gdp per capita 칼럼을 추가하고 출력합니다.\n",
        "\n",
        "country[\"gdp percapita\"] = country[\"gdp\"] / country[\"population\"]\n",
        "print(country)\n",
        "# 데이터 프레임을 만들었다면, index와 column도 각각 확인해보세요.\n",
        "print(country.index)\n",
        "print(country.columns)"
      ],
      "execution_count": 2,
      "outputs": [
        {
          "output_type": "stream",
          "text": [
            "Population series data:\n",
            "korea      5180\n",
            "japan     12718\n",
            "china    141500\n",
            "usa       32676\n",
            "dtype: int64 \n",
            "\n",
            "GDP series data:\n",
            "korea     169320000\n",
            "japan     516700000\n",
            "china    1409250000\n",
            "usa      2041280000\n",
            "dtype: int64 \n",
            "\n",
            "Country DataFrame\n",
            "       population         gdp  gdp percapita\n",
            "korea        5180   169320000   32687.258687\n",
            "japan       12718   516700000   40627.457147\n",
            "china      141500  1409250000    9959.363958\n",
            "usa         32676  2041280000   62470.314604\n",
            "Index(['korea', 'japan', 'china', 'usa'], dtype='object')\n",
            "Index(['population', 'gdp', 'gdp percapita'], dtype='object')\n"
          ],
          "name": "stdout"
        }
      ]
    }
  ]
}