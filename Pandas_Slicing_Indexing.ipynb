{
  "nbformat": 4,
  "nbformat_minor": 0,
  "metadata": {
    "colab": {
      "name": "Pandas_Slicing_Indexing.ipynb",
      "provenance": []
    },
    "kernelspec": {
      "name": "python3",
      "display_name": "Python 3"
    }
  },
  "cells": [
    {
      "cell_type": "markdown",
      "metadata": {
        "id": "mgySWZHp07Iz",
        "colab_type": "text"
      },
      "source": [
        "# DataFrame indexing, slicing\n",
        "- loc -> 명시적인 인덱싱\n",
        "- iloc -> numerical 인덱싱"
      ]
    },
    {
      "cell_type": "code",
      "metadata": {
        "id": "ZJU1euE9znAx",
        "colab_type": "code",
        "colab": {}
      },
      "source": [
        "import pandas as pd\n",
        "import numpy as np"
      ],
      "execution_count": 1,
      "outputs": []
    },
    {
      "cell_type": "code",
      "metadata": {
        "id": "VlQWjJd-z1V7",
        "colab_type": "code",
        "colab": {
          "base_uri": "https://localhost:8080/",
          "height": 351
        },
        "outputId": "45e7a549-ce51-4f31-d05a-2a269123fc18"
      },
      "source": [
        "population_dict = {\n",
        "    'korea': 5180,\n",
        "    'japan': 12718,\n",
        "    'china': 141500,\n",
        "    'usa': 32676\n",
        "}\n",
        "population = pd.Series(population_dict)\n",
        "print(population, \"\\n\")\n",
        "\n",
        "print(\"GDP series data:\")\n",
        "gdp_dict = {\n",
        "    'korea': 169320000,\n",
        "    'japan': 516700000,\n",
        "    'china': 1409250000,\n",
        "    'usa': 2041280000,\n",
        "}\n",
        "gdp = pd.Series(gdp_dict)\n",
        "print(gdp, \"\\n\")\n",
        "\n",
        "\n",
        "# 이곳에서 2개의 시리즈 값이 들어간 데이터프레임을 생성합니다.\n",
        "print(\"Country DataFrame\")\n",
        "country = pd.DataFrame({\n",
        "'population':population,\n",
        "'gdp':gdp\n",
        "})\n",
        "print(country)"
      ],
      "execution_count": 3,
      "outputs": [
        {
          "output_type": "stream",
          "text": [
            "korea      5180\n",
            "japan     12718\n",
            "china    141500\n",
            "usa       32676\n",
            "dtype: int64 \n",
            "\n",
            "GDP series data:\n",
            "korea     169320000\n",
            "japan     516700000\n",
            "china    1409250000\n",
            "usa      2041280000\n",
            "dtype: int64 \n",
            "\n",
            "Country DataFrame\n",
            "       population         gdp\n",
            "korea        5180   169320000\n",
            "japan       12718   516700000\n",
            "china      141500  1409250000\n",
            "usa         32676  2041280000\n"
          ],
          "name": "stdout"
        }
      ]
    },
    {
      "cell_type": "code",
      "metadata": {
        "id": "x1D6Mcj00unO",
        "colab_type": "code",
        "colab": {
          "base_uri": "https://localhost:8080/",
          "height": 70
        },
        "outputId": "68f4e01e-3e47-48e9-956f-cd91f9522724"
      },
      "source": [
        "print(country.loc[\"korea\":\"japan\"])"
      ],
      "execution_count": 9,
      "outputs": [
        {
          "output_type": "stream",
          "text": [
            "       population        gdp\n",
            "korea        5180  169320000\n",
            "japan       12718  516700000\n"
          ],
          "name": "stdout"
        }
      ]
    },
    {
      "cell_type": "code",
      "metadata": {
        "id": "UsIWrR2n06BI",
        "colab_type": "code",
        "colab": {
          "base_uri": "https://localhost:8080/",
          "height": 70
        },
        "outputId": "7434ea48-f7d5-414f-e720-569678fbdbcd"
      },
      "source": [
        "print(country.iloc[0:2])"
      ],
      "execution_count": 5,
      "outputs": [
        {
          "output_type": "stream",
          "text": [
            "       population        gdp\n",
            "korea        5180  169320000\n",
            "japan       12718  516700000\n"
          ],
          "name": "stdout"
        }
      ]
    },
    {
      "cell_type": "code",
      "metadata": {
        "id": "suoDoxC41HA-",
        "colab_type": "code",
        "colab": {
          "base_uri": "https://localhost:8080/",
          "height": 70
        },
        "outputId": "a8136788-0ba2-404e-9cba-be774dc1ae40"
      },
      "source": [
        "print(country.loc[\"korea\":\"japan\",:\"population\"])"
      ],
      "execution_count": 10,
      "outputs": [
        {
          "output_type": "stream",
          "text": [
            "       population\n",
            "korea        5180\n",
            "japan       12718\n"
          ],
          "name": "stdout"
        }
      ]
    },
    {
      "cell_type": "code",
      "metadata": {
        "id": "7SHwFZnF1TCU",
        "colab_type": "code",
        "colab": {
          "base_uri": "https://localhost:8080/",
          "height": 70
        },
        "outputId": "13c1711e-dc45-415e-8b65-201e56ab30ae"
      },
      "source": [
        "print(country.iloc[0:2,:2])"
      ],
      "execution_count": 8,
      "outputs": [
        {
          "output_type": "stream",
          "text": [
            "       population        gdp\n",
            "korea        5180  169320000\n",
            "japan       12718  516700000\n"
          ],
          "name": "stdout"
        }
      ]
    }
  ]
}