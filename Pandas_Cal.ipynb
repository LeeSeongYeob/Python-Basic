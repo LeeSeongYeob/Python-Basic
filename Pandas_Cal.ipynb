{
  "nbformat": 4,
  "nbformat_minor": 0,
  "metadata": {
    "colab": {
      "name": "Pandas_Cal.ipynb",
      "provenance": []
    },
    "kernelspec": {
      "name": "python3",
      "display_name": "Python 3"
    }
  },
  "cells": [
    {
      "cell_type": "code",
      "metadata": {
        "id": "-XgZ0Ibr15oD",
        "colab_type": "code",
        "colab": {}
      },
      "source": [
        "import numpy as np\n",
        "import pandas as pd"
      ],
      "execution_count": 3,
      "outputs": []
    },
    {
      "cell_type": "code",
      "metadata": {
        "id": "qGSUmOv62A0X",
        "colab_type": "code",
        "colab": {
          "base_uri": "https://localhost:8080/",
          "height": 562
        },
        "outputId": "6ca1bf21-1b39-4b4d-aa10-0da30783f5d8"
      },
      "source": [
        "print(\"A: \")\n",
        "A = pd.DataFrame(np.random.randint(0, 10, (2, 2)), columns=['A', 'B'])      #칼럼이 A, B입니다.\n",
        "print(A, \"\\n\")\n",
        "\n",
        "\n",
        "print(\"B: \")\n",
        "B = pd.DataFrame(np.random.randint(0, 10, (3, 3)), columns=['B', 'A', 'C'])     #칼럼이 B, A, C입니다.\n",
        "print(B, \"\\n\")\n",
        "\n",
        "\n",
        "# 덧셈\n",
        "print(A+B)\n",
        "print(A.add(B,fill_value=0))\n",
        "\n",
        "# 곱셈\n",
        "print(A.mul(B,fill_value=1))\n",
        "\n",
        "# 뺄셈\n",
        "print(A.sub(B,fill_value=0))\n",
        "# 나눗셈\n",
        "print(A.div(B,fill_value=1))"
      ],
      "execution_count": 4,
      "outputs": [
        {
          "output_type": "stream",
          "text": [
            "A: \n",
            "   A  B\n",
            "0  8  4\n",
            "1  3  7 \n",
            "\n",
            "B: \n",
            "   B  A  C\n",
            "0  8  5  3\n",
            "1  4  1  1\n",
            "2  9  1  3 \n",
            "\n",
            "      A     B   C\n",
            "0  13.0  12.0 NaN\n",
            "1   4.0  11.0 NaN\n",
            "2   NaN   NaN NaN\n",
            "      A     B    C\n",
            "0  13.0  12.0  3.0\n",
            "1   4.0  11.0  1.0\n",
            "2   1.0   9.0  3.0\n",
            "      A     B    C\n",
            "0  40.0  32.0  3.0\n",
            "1   3.0  28.0  1.0\n",
            "2   1.0   9.0  3.0\n",
            "     A    B    C\n",
            "0  3.0 -4.0 -3.0\n",
            "1  2.0  3.0 -1.0\n",
            "2 -1.0 -9.0 -3.0\n",
            "     A         B         C\n",
            "0  1.6  0.500000  0.333333\n",
            "1  3.0  1.750000  1.000000\n",
            "2  1.0  0.111111  0.333333\n"
          ],
          "name": "stdout"
        }
      ]
    },
    {
      "cell_type": "code",
      "metadata": {
        "id": "qv33Ww01-5LT",
        "colab_type": "code",
        "colab": {
          "base_uri": "https://localhost:8080/",
          "height": 70
        },
        "outputId": "953b4854-4bcd-4598-a845-339a198eac21"
      },
      "source": [
        "data = pd.DataFrame(columns=['이름','나이','주소','전화번호'])\n",
        "print(data)"
      ],
      "execution_count": 5,
      "outputs": [
        {
          "output_type": "stream",
          "text": [
            "Empty DataFrame\n",
            "Columns: [이름, 나이, 주소, 전화번호]\n",
            "Index: []\n"
          ],
          "name": "stdout"
        }
      ]
    },
    {
      "cell_type": "code",
      "metadata": {
        "id": "zUCrUdkb__Jq",
        "colab_type": "code",
        "colab": {
          "base_uri": "https://localhost:8080/",
          "height": 70
        },
        "outputId": "eda32091-512d-4b9a-d497-c40bd77e19b2"
      },
      "source": [
        "data.loc[0] = ['철수',20,'서울시','01012341234']\n",
        "data.loc[1] = ['영희',20,'서울시',None]\n",
        "print(data)"
      ],
      "execution_count": 10,
      "outputs": [
        {
          "output_type": "stream",
          "text": [
            "   이름  나이   주소         전화번호\n",
            "0  철수  20  서울시  01012341234\n",
            "1  영희  20  서울시         None\n"
          ],
          "name": "stdout"
        }
      ]
    },
    {
      "cell_type": "code",
      "metadata": {
        "id": "wZF-phVpA0Up",
        "colab_type": "code",
        "colab": {
          "base_uri": "https://localhost:8080/",
          "height": 122
        },
        "outputId": "cfe3b83d-ac97-4abb-d8ad-0afed9d1f924"
      },
      "source": [
        "print(data.isnull())\n",
        "print(data.notnull())"
      ],
      "execution_count": 14,
      "outputs": [
        {
          "output_type": "stream",
          "text": [
            "      이름     나이     주소   전화번호\n",
            "0  False  False  False  False\n",
            "1  False  False  False   True\n",
            "     이름    나이    주소   전화번호\n",
            "0  True  True  True   True\n",
            "1  True  True  True  False\n"
          ],
          "name": "stdout"
        }
      ]
    },
    {
      "cell_type": "code",
      "metadata": {
        "id": "V75Xvo07AaAD",
        "colab_type": "code",
        "colab": {
          "base_uri": "https://localhost:8080/",
          "height": 70
        },
        "outputId": "c673658f-13df-4562-a6c7-62570fcc16d4"
      },
      "source": [
        "print(data.fillna(\"01012321123\"))"
      ],
      "execution_count": 12,
      "outputs": [
        {
          "output_type": "stream",
          "text": [
            "   이름  나이   주소         전화번호\n",
            "0  철수  20  서울시  01012341234\n",
            "1  영희  20  서울시  01012321123\n"
          ],
          "name": "stdout"
        }
      ]
    },
    {
      "cell_type": "code",
      "metadata": {
        "id": "8oXJTkn9AqZ3",
        "colab_type": "code",
        "colab": {
          "base_uri": "https://localhost:8080/",
          "height": 52
        },
        "outputId": "90614bdb-1cff-49ed-ddde-e076f6bfc0a8"
      },
      "source": [
        "print(data.dropna())"
      ],
      "execution_count": 13,
      "outputs": [
        {
          "output_type": "stream",
          "text": [
            "   이름  나이   주소         전화번호\n",
            "0  철수  20  서울시  01012341234\n"
          ],
          "name": "stdout"
        }
      ]
    }
  ]
}