{
  "nbformat": 4,
  "nbformat_minor": 0,
  "metadata": {
    "colab": {
      "name": "행렬기초.ipynb",
      "provenance": []
    },
    "kernelspec": {
      "name": "python3",
      "display_name": "Python 3"
    }
  },
  "cells": [
    {
      "cell_type": "markdown",
      "metadata": {
        "id": "vIoRFlMVlGcz"
      },
      "source": [
        "# 행렬 기초 \n",
        "- reshape\n",
        "- concatenate : 병합\n",
        "- split : 분할\n",
        "- transpose : 전치행렬\n",
        "- linalg.inv : 역행렬"
      ]
    },
    {
      "cell_type": "code",
      "metadata": {
        "id": "q2LGcRDhTxZT",
        "outputId": "8caef14a-b6e5-46ef-afae-7ea5e2862fb0",
        "colab": {
          "base_uri": "https://localhost:8080/",
          "height": 70
        }
      },
      "source": [
        "import numpy as np\n",
        "\n",
        "def matrix_tutorial():\n",
        "    A = np.array([[1,4,5,8],\n",
        "                    [2,1,7,3],\n",
        "                    [5,4,5,9]])\n",
        "    return A\n",
        "print(matrix_tutorial())\n"
      ],
      "execution_count": 1,
      "outputs": [
        {
          "output_type": "stream",
          "text": [
            "[[1 4 5 8]\n",
            " [2 1 7 3]\n",
            " [5 4 5 9]]\n"
          ],
          "name": "stdout"
        }
      ]
    },
    {
      "cell_type": "code",
      "metadata": {
        "id": "ZL2XdTb-WJpf",
        "outputId": "a2b5967e-c9c5-408a-8a29-d293428c7c8a",
        "colab": {
          "base_uri": "https://localhost:8080/",
          "height": 615
        }
      },
      "source": [
        "def matrix_tutorial():\n",
        "    A = np.array([[1,4,5,8], [2,1,7,3], [5,4,5,9]])\n",
        "    print('A : \\n',A)\n",
        "    # 1\n",
        "    B = A.reshape(6,2)\n",
        "    print('B : \\n',B)\n",
        "    # 2\n",
        "    B = np.concatenate((B,[[2,2],[5,3]]), axis =0)\n",
        "    print('reshape B : \\n',B)\n",
        "    # 3\n",
        "    C,D = np.split(B,2,axis=0)\n",
        "    print('C :\\n' ,C)\n",
        "    print('D :\\n' ,D)\n",
        "    # 4\n",
        "    E = np.concatenate((C,D),axis = 1)\n",
        "    # 5\n",
        "    return E\n",
        "\n",
        "print(matrix_tutorial())"
      ],
      "execution_count": 3,
      "outputs": [
        {
          "output_type": "stream",
          "text": [
            "A : \n",
            " [[1 4 5 8]\n",
            " [2 1 7 3]\n",
            " [5 4 5 9]]\n",
            "B : \n",
            " [[1 4]\n",
            " [5 8]\n",
            " [2 1]\n",
            " [7 3]\n",
            " [5 4]\n",
            " [5 9]]\n",
            "reshape B : \n",
            " [[1 4]\n",
            " [5 8]\n",
            " [2 1]\n",
            " [7 3]\n",
            " [5 4]\n",
            " [5 9]\n",
            " [2 2]\n",
            " [5 3]]\n",
            "C :\n",
            " [[1 4]\n",
            " [5 8]\n",
            " [2 1]\n",
            " [7 3]]\n",
            "D :\n",
            " [[5 4]\n",
            " [5 9]\n",
            " [2 2]\n",
            " [5 3]]\n",
            "[[1 4 5 4]\n",
            " [5 8 5 9]\n",
            " [2 1 2 2]\n",
            " [7 3 5 3]]\n"
          ],
          "name": "stdout"
        }
      ]
    },
    {
      "cell_type": "code",
      "metadata": {
        "id": "5vJtuYkBk3jd",
        "outputId": "d0c172c9-5668-46c7-c8ef-a00a796cdee3",
        "colab": {
          "base_uri": "https://localhost:8080/",
          "height": 158
        }
      },
      "source": [
        "def matrix_tutorial(A):\n",
        "\n",
        "    # 2\n",
        "    B = A.transpose() # 전치행렬 구하기\n",
        "    print(B)\n",
        "    try:\n",
        "        C = np.linalg.inv(B) # 역행렬 구하기\n",
        "        return np.sum(C > 0)\n",
        "    except:\n",
        "        return 'not invertible'\n",
        "   \n",
        "\n",
        "def get_matrix():\n",
        "    # 1\n",
        "    mat = [] # define mat variable\n",
        "\n",
        "    first_line = input().strip() # receice first line\n",
        "    first_line_splitted = first_line.split(\" \") # split line by space \" \"\n",
        "    n = int(first_line_splitted[0]) # 행의 개수\n",
        "    m = int(first_line_splitted[1]) # 열의 개수\n",
        "\n",
        "    for i in range(n):\n",
        "        line = input().strip() # receive each line ...\n",
        "        row = line.split(\" \")  # ... and split\n",
        "        for j in range(m):\n",
        "            row[j] = int(row[j]) # convert to integer\n",
        "        mat.append(row)\n",
        "\n",
        "    return np.array(mat)\n",
        "\n",
        "if __name__ == \"__main__\":\n",
        "    A = get_matrix()\n",
        "    print(matrix_tutorial(A))"
      ],
      "execution_count": 5,
      "outputs": [
        {
          "output_type": "stream",
          "text": [
            "2 2\n",
            "1 2 3 4\n",
            "5 6 7 8\n",
            "[['1' '5']\n",
            " ['2' '6']\n",
            " ['3' '7']\n",
            " ['4' '8']]\n",
            "not invertible\n"
          ],
          "name": "stdout"
        }
      ]
    }
  ]
}